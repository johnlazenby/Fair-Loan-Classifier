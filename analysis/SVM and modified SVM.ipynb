{
 "cells": [
  {
   "cell_type": "markdown",
   "metadata": {},
   "source": [
    "# SVM and Fairness Modified SVM\n",
    "takes data for Flagstar 2019 and outputs results of classifications for each approach."
   ]
  },
  {
   "cell_type": "markdown",
   "metadata": {},
   "source": [
    "## Read in data"
   ]
  },
  {
   "cell_type": "code",
   "execution_count": 1,
   "metadata": {},
   "outputs": [],
   "source": [
    "using CSV, DataFrames, Statistics, JuMP, Gurobi, GLMNet, Random, Plots"
   ]
  },
  {
   "cell_type": "code",
   "execution_count": 16,
   "metadata": {},
   "outputs": [],
   "source": [
    "train = DataFrame(CSV.File(\"train.csv\"))\n",
    "test = DataFrame(CSV.File(\"test.csv\"))\n",
    ";"
   ]
  },
  {
   "cell_type": "code",
   "execution_count": 17,
   "metadata": {},
   "outputs": [],
   "source": [
    "trainX = select(train, Not([:denied,:ID,:minority]))\n",
    "train_minority = train[!,:minority]\n",
    "train_majority = zeros(size(train_minority)[1])\n",
    "train_majority[train_minority .== 0] .= 1\n",
    "trainy = train[!,:denied]\n",
    "testX = select(test, Not([:denied,:ID,:minority]))\n",
    "testy = test[!,:denied]\n",
    ";"
   ]
  },
  {
   "cell_type": "code",
   "execution_count": 26,
   "metadata": {},
   "outputs": [],
   "source": [
    "trainX_racist = select(train, Not([:denied,:ID]))\n",
    "testX_racist = select(test, Not([:denied,:ID]))\n",
    ";"
   ]
  },
  {
   "cell_type": "markdown",
   "metadata": {},
   "source": [
    "objective is to minimize: $\\max \\{0,1 - y_i * (\\beta_0 + \\beta_1 * x_1 + \\beta_2 * x_2$)\\}"
   ]
  },
  {
   "cell_type": "markdown",
   "metadata": {},
   "source": [
    "## Train SVM\n",
    "min $\\sum \\limits_{i = 1}^N t_i$ <br>\n",
    "st: <br>\n",
    "$0 \\le t_i \\quad \\forall i \\in [1,...,N]$ <br>\n",
    "$1 - y_i * (\\beta_0 + \\beta_1 * x_1 + ... + \\beta_p * x_p) \\le t_i \\quad \\forall i \\in [1,...,N]$"
   ]
  },
  {
   "cell_type": "code",
   "execution_count": 19,
   "metadata": {},
   "outputs": [
    {
     "name": "stdout",
     "output_type": "stream",
     "text": [
      "Academic license - for non-commercial use only\n",
      "Academic license - for non-commercial use only\n",
      "24307.403047147865"
     ]
    }
   ],
   "source": [
    "model = Model(Gurobi.Optimizer)\n",
    "set_optimizer_attribute(model, \"OutputFlag\", 0) \n",
    "n,p = size(trainX)\n",
    "@variable(model,beta[j=1:p])\n",
    "@variable(model,t[i=1:n])\n",
    "@variable(model,beta0)\n",
    "@objective(model,Min,sum(t[i] for i=1:n))\n",
    "@constraint(model,[i=1:n],0 <= t[i])\n",
    "@constraint(model,[i=1:n],1 - (trainy[i]*(beta0 + sum(trainX[i,j]*beta[j] for j=1:p))) <= t[i])\n",
    "optimize!(model)\n",
    "opt_beta = value.(beta)\n",
    "opt_beta0 = value.(beta0)\n",
    "prev_loss = objective_value(model)\n",
    "print(objective_value(model))\n",
    ";"
   ]
  },
  {
   "cell_type": "code",
   "execution_count": 40,
   "metadata": {},
   "outputs": [],
   "source": [
    "train[!,:results] = opt_beta0 .+ sum(trainX[:,j].*opt_beta[j] for j=1:p)\n",
    "to_send = train[!,[:ID,:results,:minority,:denied]]\n",
    "CSV.write(\"results/train_results.csv\",to_send)\n",
    "test[!,:results] = opt_beta0 .+ sum(testX[:,j].*opt_beta[j] for j=1:p)\n",
    "to_send = test[!,[:ID,:results,:minority,:denied]]\n",
    "CSV.write(\"results/test_results.csv\",to_send)\n",
    ";"
   ]
  },
  {
   "cell_type": "markdown",
   "metadata": {},
   "source": [
    "## Add holistic fairness contraint\n",
    "The percentage of loss from majority borrowers has to be less than or equal to the overall percentage of majority borrowers in the data <br>\n",
    "min $\\sum \\limits_{i = 1}^N t_i$ <br>\n",
    "st: <br>\n",
    "$0 \\le t_i \\quad \\forall i \\in [1,...,N]$ <br>\n",
    "$1 - y_i * (\\beta_0 + \\beta_1 * x_1 + ... + \\beta_p * x_p) \\le t_i \\quad \\forall i \\in [1,...,N]$ <br>\n",
    "$N*(3/2) * \\sum \\limits_{i=1}^N majority_i * t_i \\le \\text{MajorityCount}*\\sum \\limits_{i=1}^N t_i$ <br>\n",
    "Where N is the total number of observations in the training data, MajorityCount is the total number of majority borrowers in the training data, and $majority_i$ is whether the $i^{\\text{th}}$ observation in the training data is a majority borrower."
   ]
  },
  {
   "cell_type": "code",
   "execution_count": 39,
   "metadata": {},
   "outputs": [
    {
     "name": "stdout",
     "output_type": "stream",
     "text": [
      "Academic license - for non-commercial use only\n",
      "Academic license - for non-commercial use only\n",
      "29915.441899674577"
     ]
    }
   ],
   "source": [
    "model = Model(Gurobi.Optimizer)\n",
    "set_optimizer_attribute(model, \"OutputFlag\", 0) \n",
    "n,p = size(trainX)\n",
    "num_majority = sum(train_majority[i] for i=1:n)\n",
    "@variable(model,beta[j=1:p])\n",
    "@variable(model,t[i=1:n])\n",
    "@variable(model,beta0)\n",
    "@objective(model,Min,sum(t[i] for i=1:n))\n",
    "@constraint(model,[i=1:n],0 <= t[i])\n",
    "@constraint(model,[i=1:n],1 - (trainy[i]*(beta0 + sum(trainX[i,j]*beta[j] for j=1:p))) <= t[i])\n",
    "@constraint(model,(1.5*sum(train_majority[i]*t[i] for i=1:n))*n <= sum(t[i] for i=1:n)*num_majority)\n",
    "optimize!(model)\n",
    "opt_beta_fair = value.(beta)\n",
    "opt_beta0_fair = value.(beta0)\n",
    "print(objective_value(model))\n",
    ";"
   ]
  },
  {
   "cell_type": "code",
   "execution_count": 40,
   "metadata": {},
   "outputs": [],
   "source": [
    "train[!,:results] = opt_beta0_fair .+ sum(trainX[:,j].*opt_beta_fair[j] for j=1:p)\n",
    "to_send = train[!,[:ID,:results,:minority,:denied]]\n",
    "CSV.write(\"results/train_results2.csv\",to_send)\n",
    "test[!,:results] = opt_beta0_fair .+ sum(testX[:,j].*opt_beta_fair[j] for j=1:p)\n",
    "to_send = test[!,[:ID,:results,:minority,:denied]]\n",
    "CSV.write(\"results/test_results2.csv\",to_send)\n",
    ";"
   ]
  },
  {
   "cell_type": "markdown",
   "metadata": {},
   "source": [
    "## Minimize majority loss subject to total loss tolerance\n",
    "min $\\sum \\limits_{i = 1}^N majority_i * t_i$ <br>\n",
    "st: <br>\n",
    "$0 \\le t_i \\quad \\forall i \\in [1,...,N]$ <br>\n",
    "$1 - y_i * (\\beta_0 + \\beta_1 * x_1 + ... + \\beta_p * x_p) \\le t_i \\quad \\forall i \\in [1,...,N]$ <br>\n",
    "$\\sum \\limits_{i = 1}^N t_i \\le 1.5 * \\text{PreviousLoss}$ <br>\n",
    "Where N is the total number of observations in the training data, PreviousLoss is the Loss acheived from unconstrained SVM, and $majority_i$ is whether the $i^{\\text{th}}$ observation in the training data is a majority borrower."
   ]
  },
  {
   "cell_type": "code",
   "execution_count": 49,
   "metadata": {},
   "outputs": [
    {
     "name": "stdout",
     "output_type": "stream",
     "text": [
      "Academic license - for non-commercial use only\n",
      "Academic license - for non-commercial use only\n",
      "36461.10457072188"
     ]
    }
   ],
   "source": [
    "model = Model(Gurobi.Optimizer)\n",
    "set_optimizer_attribute(model, \"OutputFlag\", 0) \n",
    "n,p = size(trainX)\n",
    "@variable(model,beta[j=1:p])\n",
    "@variable(model,t[i=1:n])\n",
    "@variable(model,beta0)\n",
    "@objective(model,Min,sum(train_majority[i]*t[i] for i=1:n))\n",
    "@constraint(model,[i=1:n],0 <= t[i])\n",
    "@constraint(model,[i=1:n],1 - (trainy[i]*(beta0 + sum(trainX[i,j]*beta[j] for j=1:p))) <= t[i])\n",
    "@constraint(model,sum(t[i] for i=1:n) <= 1.5* prev_loss)\n",
    "optimize!(model)\n",
    "opt_beta_fair2 = value.(beta)\n",
    "opt_beta0_fair2 = value.(beta0)\n",
    "print(sum(value.(t[i]) for i=1:n))\n",
    ";"
   ]
  },
  {
   "cell_type": "code",
   "execution_count": 50,
   "metadata": {},
   "outputs": [],
   "source": [
    "train[!,:results] = opt_beta0_fair2 .+ sum(trainX[:,j].*opt_beta_fair2[j] for j=1:p)\n",
    "to_send = train[!,[:ID,:results,:minority,:denied]]\n",
    "CSV.write(\"results/train_results3.csv\",to_send)\n",
    "test[!,:results] = opt_beta0_fair2 .+ sum(testX[:,j].*opt_beta_fair2[j] for j=1:p)\n",
    "to_send = test[!,[:ID,:results,:minority,:denied]]\n",
    "CSV.write(\"results/test_results3.csv\",to_send)\n",
    ";"
   ]
  }
 ],
 "metadata": {
  "kernelspec": {
   "display_name": "Julia 1.0.5",
   "language": "julia",
   "name": "julia-1.0"
  },
  "language_info": {
   "file_extension": ".jl",
   "mimetype": "application/julia",
   "name": "julia",
   "version": "1.0.5"
  }
 },
 "nbformat": 4,
 "nbformat_minor": 4
}
